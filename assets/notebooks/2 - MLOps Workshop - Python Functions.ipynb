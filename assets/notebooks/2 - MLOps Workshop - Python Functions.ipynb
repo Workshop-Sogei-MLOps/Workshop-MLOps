{
 "cells": [
  {
   "cell_type": "markdown",
   "metadata": {
    "id": "b45c1b1d-451c-4db8-866d-596817bdc4b9"
   },
   "source": [
    "# MLOps Workshop - Python Functions\n",
    "\n",
    "In questo notebook andremo a fare il deploy di una Python function che processa i dati passati e li invia ad un modello di Machine Learning già in deployment."
   ]
  },
  {
   "cell_type": "code",
   "execution_count": null,
   "metadata": {
    "id": "b3656c5647234d148b96ad3f2785ffee",
    "tags": []
   },
   "outputs": [],
   "source": [
    "# Installazione libreria necessaria\n",
    "!pip install wget\n",
    "!pip install pillow "
   ]
  },
  {
   "cell_type": "markdown",
   "metadata": {
    "id": "5fedc063-c31f-48f8-a697-9d4f5b22b2d2"
   },
   "source": [
    "# Setup\n",
    "\n",
    "Installazione ed import delle librerie."
   ]
  },
  {
   "cell_type": "code",
   "execution_count": null,
   "metadata": {
    "id": "5973836e-c432-44fd-a235-634cbd926558",
    "tags": []
   },
   "outputs": [],
   "source": [
    "# Import librerie\n",
    "import json\n",
    "import os\n",
    "import requests\n",
    "import os, wget, json\n",
    "import numpy as np\n",
    "import matplotlib.pyplot as plt\n",
    "import requests\n",
    "from IPython.core.display import display, HTML"
   ]
  },
  {
   "cell_type": "code",
   "execution_count": null,
   "metadata": {
    "id": "2fab19c8a5a341918dab7462b693b62c",
    "tags": []
   },
   "outputs": [],
   "source": [
    "cpdtoken=os.environ['USER_ACCESS_TOKEN']\n",
    "wml_credentials = {\n",
    "    \"token\": cpdtoken,\n",
    "    \"instance_id\" : \"openshift\",\n",
    "    \"url\": os.environ['RUNTIME_ENV_APSX_URL'],\n",
    "    \"version\": \"4.0\"\n",
    "}\n",
    "\n",
    "from ibm_watson_machine_learning import APIClient\n",
    "client = APIClient(wml_credentials)"
   ]
  },
  {
   "cell_type": "markdown",
   "metadata": {
    "id": "bcf80f67-dc13-42fc-ab36-2febffcb0315"
   },
   "source": [
    "# Setup Deployment\n",
    "\n",
    "Impostiamo il deployment space ID e il deployment ID del modello da aggiungere all'interno della funzione."
   ]
  },
  {
   "cell_type": "code",
   "execution_count": null,
   "metadata": {
    "id": "321391ea186c4c998579e81706d6ab50",
    "tags": []
   },
   "outputs": [],
   "source": [
    "client.spaces.list(limit=10)"
   ]
  },
  {
   "cell_type": "code",
   "execution_count": null,
   "metadata": {
    "id": "53c7e101561a49a8a5d40b8ba9bdb215",
    "tags": []
   },
   "outputs": [],
   "source": [
    "# TODO Change ID\n",
    "\n",
    "space_id=''\n",
    "\n",
    "client.set.default_space(space_id)"
   ]
  },
  {
   "cell_type": "code",
   "execution_count": null,
   "metadata": {
    "id": "9b27b29f418f44d197457e62df2ba892",
    "tags": []
   },
   "outputs": [],
   "source": [
    "client.deployments.list()"
   ]
  },
  {
   "cell_type": "code",
   "execution_count": null,
   "metadata": {
    "id": "27b43031a0af4afb98e3667428e59657",
    "tags": []
   },
   "outputs": [],
   "source": [
    "# TODO Change ID\n",
    "\n",
    "model_deployment_id = \"\""
   ]
  },
  {
   "cell_type": "markdown",
   "metadata": {
    "id": "c874e136-cea5-4a17-84e4-6883e40d0dcd"
   },
   "source": [
    "## Data setup\n",
    "\n",
    "Scarichiamo un'immagine di esempio per iniziare ad esplorare i dati."
   ]
  },
  {
   "cell_type": "code",
   "execution_count": null,
   "metadata": {
    "id": "2e68322ed2ff41b9850371e92cd6c58c",
    "tags": []
   },
   "outputs": [],
   "source": [
    "# Download del file di esempio e caricamento in una variabile\n",
    "\n",
    "sample_canvas_data_filename = 'mnist-html-canvas-image-data.json'\n",
    "url = 'https://github.com/IBM/watson-machine-learning-samples/raw/master/cloud/data/mnist/' + sample_canvas_data_filename\n",
    "if not os.path.isfile(sample_canvas_data_filename): wget.download(url)\n",
    "\n",
    "with open(sample_canvas_data_filename) as data_file:\n",
    "    sample_payload = json.load(data_file)"
   ]
  },
  {
   "cell_type": "code",
   "execution_count": null,
   "metadata": {
    "id": "7ac03922c7ed44c38eb745d6e981f387",
    "tags": []
   },
   "outputs": [],
   "source": [
    "# Plot dell'immagine con matplotlib\n",
    "\n",
    "print(\"Height (n): \" + str(sample_payload[\"height\"]) + \" pixels\\n\")\n",
    "print(\"Num image data entries: \" + str(len( sample_payload[\"data\"])) + \" - (n * n * 4) elements - RGBA values\\n\")\n",
    "\n",
    "rgba_arr = np.asarray(sample_payload[\"data\"]).astype('uint8')\n",
    "n = sample_payload[\"height\"]\n",
    "plt.figure()\n",
    "plt.imshow( rgba_arr.reshape(n, n, 4))\n",
    "plt.xticks([])\n",
    "plt.yticks([])\n",
    "plt.show()"
   ]
  },
  {
   "cell_type": "markdown",
   "metadata": {
    "id": "84a90ce6-1d99-4ed9-ab53-7f85b674f257"
   },
   "source": [
    "# Definzione Python Function\n",
    "\n",
    "Definiamo la Python function di cui fare il deploy. \n",
    "\n",
    "Possiamo definire altre funzioni di utilità, ma l'unica funzione **obbligatoria** da inserire è la `score`, la quale viene eseguita all'invocazione dall'esterno e restituisce il risultato della funzione. "
   ]
  },
  {
   "cell_type": "code",
   "execution_count": null,
   "metadata": {
    "id": "06ad70e1cb7b4a8584a688aa0faa08a7",
    "tags": []
   },
   "outputs": [],
   "source": [
    "ai_parms = {\"wml_credentials\": wml_credentials, \"space_id\": space_id, \"model_deployment_id\": model_deployment_id}\n",
    "\n",
    "def my_deployable_function( parms=ai_parms ):\n",
    "    \n",
    "    \n",
    "        \n",
    "    def getRGBAArr(canvas_data):\n",
    "        import numpy as np\n",
    "        dimension = canvas_data[\"height\"]\n",
    "        rgba_data = canvas_data[\"data\"]\n",
    "        rgba_arr  = np.asarray(rgba_data).astype('uint8')\n",
    "        return rgba_arr.reshape(dimension, dimension, 4)\n",
    "        \n",
    "    def getNormAlphaList(img):\n",
    "        import numpy as np\n",
    "        alpha_arr       = np.array(img.split()[-1])\n",
    "        norm_alpha_arr  = alpha_arr / 255\n",
    "        return norm_alpha_arr\n",
    "        \n",
    "    def score(function_payload):\n",
    "            \n",
    "        try:\n",
    "            \n",
    "            from PIL import Image\n",
    "            canvas_data   = function_payload[\"input_data\"][0][\"values\"][0] \n",
    "            rgba_arr      = getRGBAArr(canvas_data)        \n",
    "            img           = Image.fromarray(rgba_arr, 'RGBA')\n",
    "            sm_img        = img.resize((28, 28), Image.LANCZOS)\n",
    "            alpha_list    = getNormAlphaList(sm_img)           \n",
    "            alpha_list    = alpha_list.reshape((1,28,28))\n",
    "            model_payload = {\"input_data\": [{\"values\" : alpha_list}]}\n",
    "                    \n",
    "            from ibm_watson_machine_learning import APIClient\n",
    "            client       = APIClient(parms[\"wml_credentials\"])\n",
    "            client.set.default_space(parms[\"space_id\"])\n",
    "            model_result = client.deployments.score(parms[\"model_deployment_id\"], model_payload)\n",
    "                    \n",
    "            return model_result\n",
    "        \n",
    "        except Exception as e:\n",
    "            \n",
    "            return {'predictions': [{'values': [repr(e)]}]}\n",
    "\n",
    "\n",
    "    return score"
   ]
  },
  {
   "cell_type": "markdown",
   "metadata": {
    "id": "cd9de636-753e-4a11-80c9-82529956e838"
   },
   "source": [
    "## Test locale"
   ]
  },
  {
   "cell_type": "code",
   "execution_count": null,
   "metadata": {
    "id": "5c5dee0aeb4542da84a6864bbb06903a",
    "tags": []
   },
   "outputs": [],
   "source": [
    "func_result = my_deployable_function()({\"input_data\": [{\"values\": [sample_payload]}]})\n",
    "print(func_result)"
   ]
  },
  {
   "cell_type": "markdown",
   "metadata": {
    "id": "4cadffe8-a118-48a1-86ac-bbe1ffe93a91"
   },
   "source": [
    "# Deploy Python Function\n",
    "\n",
    "Andiamo a fare il deploy andando prima a salvare la funzione come asset nel deployment space, e poi andando a creare un deployment contattabile dall'esterno."
   ]
  },
  {
   "cell_type": "markdown",
   "metadata": {
    "id": "61270773-4cbe-4735-bb48-0c945eb345b4"
   },
   "source": [
    "## Store"
   ]
  },
  {
   "cell_type": "code",
   "execution_count": null,
   "metadata": {
    "id": "7fea569656c44ea7b2fad614a6aeb565",
    "tags": []
   },
   "outputs": [],
   "source": [
    "sofware_spec_uid = client.software_specifications.get_id_by_name(\"runtime-22.1-py3.9\")\n",
    "\n",
    "meta_data = {\n",
    "    client.repository.FunctionMetaNames.NAME: 'MNIST deployable function',\n",
    "    client.repository.FunctionMetaNames.SOFTWARE_SPEC_UID: sofware_spec_uid\n",
    "}\n",
    "\n",
    "function_details = client.repository.store_function(meta_props=meta_data, function=my_deployable_function)\n",
    "\n",
    "function_uid = client.repository.get_function_uid(function_details)"
   ]
  },
  {
   "cell_type": "markdown",
   "metadata": {
    "id": "156c1ee7-db36-4635-ad76-2c2c9b7ec362"
   },
   "source": [
    "## Deploy"
   ]
  },
  {
   "cell_type": "code",
   "execution_count": null,
   "metadata": {
    "id": "b631aeef0d224139af5f7ed52998c2fb",
    "tags": []
   },
   "outputs": [],
   "source": [
    "# Deploy the stored function\n",
    "\n",
    "metadata = {\n",
    "    client.deployments.ConfigurationMetaNames.NAME: \"MNIST function deployment\",\n",
    "    client.deployments.ConfigurationMetaNames.ONLINE: {},\n",
    "    client.deployments.ConfigurationMetaNames.TAGS: ['FUNCTION']\n",
    "}\n",
    "\n",
    "function_deployment_details = client.deployments.create(function_uid, meta_props=metadata)"
   ]
  },
  {
   "cell_type": "code",
   "execution_count": null,
   "metadata": {
    "id": "6e9b172895da41518f0d30f811a2934f",
    "tags": []
   },
   "outputs": [],
   "source": [
    "# Prendiamo l'url da contattare per prendere \n",
    "\n",
    "function_deployment_id = client.deployments.get_uid(function_deployment_details)\n",
    "function_deployment_endpoint_url = client.deployments.get_scoring_href(function_deployment_details)\n",
    "print(function_deployment_id)\n",
    "print(function_deployment_endpoint_url)"
   ]
  },
  {
   "cell_type": "code",
   "execution_count": null,
   "metadata": {
    "id": "d89dd95c59a549bbbf4c9147b8b9f014",
    "tags": []
   },
   "outputs": [],
   "source": [
    "# Setup payload\n",
    "\n",
    "payload = {\"input_data\": [{\"values\": [sample_payload]}]}"
   ]
  },
  {
   "cell_type": "markdown",
   "metadata": {
    "id": "db474767-3413-4b15-8232-516a9ab417b4"
   },
   "source": [
    "# Test\n",
    "\n",
    "Testiamo la funzione tramite API e tramite richiesta HTTPS."
   ]
  },
  {
   "cell_type": "code",
   "execution_count": null,
   "metadata": {
    "id": "68be5524c1374efdab47939b5af19b32",
    "tags": []
   },
   "outputs": [],
   "source": [
    "result = client.deployments.score(function_deployment_id, payload)\n",
    "if \"error\" in result:\n",
    "    print(result[\"error\"])\n",
    "else:\n",
    "    print(result)"
   ]
  },
  {
   "cell_type": "code",
   "execution_count": null,
   "metadata": {
    "id": "7ed7b981222a482a8482e93a45c91b12",
    "tags": []
   },
   "outputs": [],
   "source": [
    "header = {'Content-Type': 'application/json', 'Authorization': 'Bearer ' + cpdtoken}\n",
    "\n",
    "payload_scoring = payload\n",
    "\n",
    "# TODO Change URL\n",
    "response_scoring = requests.post(f'https://cpd-cpd-instance.itzroks-666000zj44-mn5nm2-4b4a324f027aea19c5cbc0c3275c4656-0000.eu-de.containers.appdomain.cloud/ml/v4/deployments/{function_deployment_id}/predictions?version=2022-04-21', json=payload_scoring, headers=header, verify=False)\n",
    "print(\"Scoring response\")\n",
    "print(json.loads(response_scoring.text))"
   ]
  },
  {
   "cell_type": "code",
   "execution_count": null,
   "metadata": {
    "id": "56aa04b09ba2495d9f245d10aec914e8"
   },
   "outputs": [],
   "source": []
  }
 ],
 "metadata": {
  "kernelspec": {
   "display_name": "Python 3.9",
   "language": "python",
   "name": "python3"
  },
  "language_info": {
   "codemirror_mode": {
    "name": "ipython",
    "version": 3
   },
   "file_extension": ".py",
   "mimetype": "text/x-python",
   "name": "python",
   "nbconvert_exporter": "python",
   "pygments_lexer": "ipython3",
   "version": "3.9.7"
  }
 },
 "nbformat": 4,
 "nbformat_minor": 4
}
